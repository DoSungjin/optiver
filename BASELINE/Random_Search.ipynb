{
 "cells": [
  {
   "cell_type": "markdown",
   "metadata": {
    "id": "GqTNppItXIwu"
   },
   "source": [
    "# Random Search\n",
    "\n",
    "이 Notebook에서는 Random Search를 통해 포트폴리오를 구성하고 시각화해보겠습니다."
   ]
  },
  {
   "cell_type": "markdown",
   "metadata": {
    "id": "Ee66EE4eXGux"
   },
   "source": [
    "## Import"
   ]
  },
  {
   "cell_type": "code",
   "execution_count": 1,
   "metadata": {
    "id": "X-2fdkgaXah-"
   },
   "outputs": [],
   "source": [
    "import pandas as pd\n",
    "import os\n",
    "from tqdm import tqdm\n",
    "import random\n",
    "import subprocess\n",
    "import pickle\n",
    "import time"
   ]
  },
  {
   "cell_type": "code",
   "execution_count": 2,
   "metadata": {
    "id": "WUMheJcKXbcP"
   },
   "outputs": [],
   "source": [
    "import warnings\n",
    "warnings.filterwarnings(\"ignore\")"
   ]
  },
  {
   "cell_type": "markdown",
   "metadata": {
    "id": "23ltWpY-Xgku"
   },
   "source": [
    "## Load Data"
   ]
  },
  {
   "cell_type": "code",
   "execution_count": 3,
   "metadata": {},
   "outputs": [],
   "source": [
    "import os\n",
    "DATA_PATH = '../data/'\n",
    "TRAIN_PATH = os.path.join(DATA_PATH, 'train.csv')\n",
    "TEST_PATH = os.path.join(DATA_PATH, 'test.csv')\n",
    "SUB_PATH = os.path.join(DATA_PATH, 'sample_submission.csv')"
   ]
  },
  {
   "cell_type": "code",
   "execution_count": 4,
   "metadata": {
    "id": "MA0L1hP6XiiW"
   },
   "outputs": [
    {
     "data": {
      "text/html": [
       "<div>\n",
       "<style scoped>\n",
       "    .dataframe tbody tr th:only-of-type {\n",
       "        vertical-align: middle;\n",
       "    }\n",
       "\n",
       "    .dataframe tbody tr th {\n",
       "        vertical-align: top;\n",
       "    }\n",
       "\n",
       "    .dataframe thead th {\n",
       "        text-align: right;\n",
       "    }\n",
       "</style>\n",
       "<table border=\"1\" class=\"dataframe\">\n",
       "  <thead>\n",
       "    <tr style=\"text-align: right;\">\n",
       "      <th></th>\n",
       "      <th>일자</th>\n",
       "      <th>종목코드</th>\n",
       "      <th>종목명</th>\n",
       "      <th>거래량</th>\n",
       "      <th>시가</th>\n",
       "      <th>고가</th>\n",
       "      <th>저가</th>\n",
       "      <th>종가</th>\n",
       "    </tr>\n",
       "  </thead>\n",
       "  <tbody>\n",
       "    <tr>\n",
       "      <th>0</th>\n",
       "      <td>20210601</td>\n",
       "      <td>A060310</td>\n",
       "      <td>3S</td>\n",
       "      <td>166690</td>\n",
       "      <td>2890</td>\n",
       "      <td>2970</td>\n",
       "      <td>2885</td>\n",
       "      <td>2920</td>\n",
       "    </tr>\n",
       "    <tr>\n",
       "      <th>1</th>\n",
       "      <td>20210601</td>\n",
       "      <td>A095570</td>\n",
       "      <td>AJ네트웍스</td>\n",
       "      <td>63836</td>\n",
       "      <td>5860</td>\n",
       "      <td>5940</td>\n",
       "      <td>5750</td>\n",
       "      <td>5780</td>\n",
       "    </tr>\n",
       "    <tr>\n",
       "      <th>2</th>\n",
       "      <td>20210601</td>\n",
       "      <td>A006840</td>\n",
       "      <td>AK홀딩스</td>\n",
       "      <td>103691</td>\n",
       "      <td>35500</td>\n",
       "      <td>35600</td>\n",
       "      <td>34150</td>\n",
       "      <td>34400</td>\n",
       "    </tr>\n",
       "    <tr>\n",
       "      <th>3</th>\n",
       "      <td>20210601</td>\n",
       "      <td>A054620</td>\n",
       "      <td>APS</td>\n",
       "      <td>462544</td>\n",
       "      <td>14600</td>\n",
       "      <td>14950</td>\n",
       "      <td>13800</td>\n",
       "      <td>14950</td>\n",
       "    </tr>\n",
       "    <tr>\n",
       "      <th>4</th>\n",
       "      <td>20210601</td>\n",
       "      <td>A265520</td>\n",
       "      <td>AP시스템</td>\n",
       "      <td>131987</td>\n",
       "      <td>29150</td>\n",
       "      <td>29150</td>\n",
       "      <td>28800</td>\n",
       "      <td>29050</td>\n",
       "    </tr>\n",
       "    <tr>\n",
       "      <th>...</th>\n",
       "      <td>...</td>\n",
       "      <td>...</td>\n",
       "      <td>...</td>\n",
       "      <td>...</td>\n",
       "      <td>...</td>\n",
       "      <td>...</td>\n",
       "      <td>...</td>\n",
       "      <td>...</td>\n",
       "    </tr>\n",
       "    <tr>\n",
       "      <th>987995</th>\n",
       "      <td>20230530</td>\n",
       "      <td>A189980</td>\n",
       "      <td>흥국에프엔비</td>\n",
       "      <td>272284</td>\n",
       "      <td>3005</td>\n",
       "      <td>3035</td>\n",
       "      <td>2955</td>\n",
       "      <td>2980</td>\n",
       "    </tr>\n",
       "    <tr>\n",
       "      <th>987996</th>\n",
       "      <td>20230530</td>\n",
       "      <td>A000540</td>\n",
       "      <td>흥국화재</td>\n",
       "      <td>50218</td>\n",
       "      <td>3250</td>\n",
       "      <td>3255</td>\n",
       "      <td>3195</td>\n",
       "      <td>3215</td>\n",
       "    </tr>\n",
       "    <tr>\n",
       "      <th>987997</th>\n",
       "      <td>20230530</td>\n",
       "      <td>A003280</td>\n",
       "      <td>흥아해운</td>\n",
       "      <td>130664</td>\n",
       "      <td>1344</td>\n",
       "      <td>1395</td>\n",
       "      <td>1340</td>\n",
       "      <td>1370</td>\n",
       "    </tr>\n",
       "    <tr>\n",
       "      <th>987998</th>\n",
       "      <td>20230530</td>\n",
       "      <td>A037440</td>\n",
       "      <td>희림</td>\n",
       "      <td>141932</td>\n",
       "      <td>9170</td>\n",
       "      <td>9260</td>\n",
       "      <td>9170</td>\n",
       "      <td>9200</td>\n",
       "    </tr>\n",
       "    <tr>\n",
       "      <th>987999</th>\n",
       "      <td>20230530</td>\n",
       "      <td>A238490</td>\n",
       "      <td>힘스</td>\n",
       "      <td>2611843</td>\n",
       "      <td>6410</td>\n",
       "      <td>8220</td>\n",
       "      <td>6300</td>\n",
       "      <td>8220</td>\n",
       "    </tr>\n",
       "  </tbody>\n",
       "</table>\n",
       "<p>988000 rows × 8 columns</p>\n",
       "</div>"
      ],
      "text/plain": [
       "              일자     종목코드     종목명      거래량     시가     고가     저가     종가\n",
       "0       20210601  A060310      3S   166690   2890   2970   2885   2920\n",
       "1       20210601  A095570  AJ네트웍스    63836   5860   5940   5750   5780\n",
       "2       20210601  A006840   AK홀딩스   103691  35500  35600  34150  34400\n",
       "3       20210601  A054620     APS   462544  14600  14950  13800  14950\n",
       "4       20210601  A265520   AP시스템   131987  29150  29150  28800  29050\n",
       "...          ...      ...     ...      ...    ...    ...    ...    ...\n",
       "987995  20230530  A189980  흥국에프엔비   272284   3005   3035   2955   2980\n",
       "987996  20230530  A000540    흥국화재    50218   3250   3255   3195   3215\n",
       "987997  20230530  A003280    흥아해운   130664   1344   1395   1340   1370\n",
       "987998  20230530  A037440      희림   141932   9170   9260   9170   9200\n",
       "987999  20230530  A238490      힘스  2611843   6410   8220   6300   8220\n",
       "\n",
       "[988000 rows x 8 columns]"
      ]
     },
     "execution_count": 4,
     "metadata": {},
     "output_type": "execute_result"
    }
   ],
   "source": [
    "train = pd.read_csv(TRAIN_PATH)\n",
    "train"
   ]
  },
  {
   "cell_type": "code",
   "execution_count": 5,
   "metadata": {
    "colab": {
     "base_uri": "https://localhost:8080/"
    },
    "id": "8lvayATiXnZX",
    "outputId": "d6bbf0f5-7e54-4108-c6c2-c914de446094"
   },
   "outputs": [
    {
     "data": {
      "text/plain": [
       "2000"
      ]
     },
     "execution_count": 5,
     "metadata": {},
     "output_type": "execute_result"
    }
   ],
   "source": [
    "len(train['종목코드'].unique())"
   ]
  },
  {
   "cell_type": "markdown",
   "metadata": {
    "id": "y2BgGKbXXos-"
   },
   "source": [
    "## Process Data"
   ]
  },
  {
   "cell_type": "code",
   "execution_count": 6,
   "metadata": {
    "id": "3wfh663IXrD2"
   },
   "outputs": [],
   "source": [
    "train = train.iloc[-253*2000:] # 253일의 데이터만 활용하여 계산 (1년은 평균 252일 거래일 정도, window rolling 시 첫번째 NaN을 없애기 위해 +1)"
   ]
  },
  {
   "cell_type": "code",
   "execution_count": 7,
   "metadata": {
    "colab": {
     "base_uri": "https://localhost:8080/"
    },
    "id": "oxmdbvQhXsKH",
    "outputId": "7b28a995-fd72-48d9-dd13-63198affc885"
   },
   "outputs": [
    {
     "name": "stderr",
     "output_type": "stream",
     "text": [
      "100%|██████████| 2000/2000 [00:33<00:00, 60.42it/s]\n"
     ]
    }
   ],
   "source": [
    "train['pct_change'] = 0\n",
    "\n",
    "for stock_code in tqdm(train['종목코드'].unique()):\n",
    "    stock_train = train[train['종목코드']== stock_code]\n",
    "    stock_train['pct_chagne'] = stock_train['종가'].pct_change()\n",
    "    train.loc[stock_train.index,'pct_change'] = stock_train['pct_chagne']"
   ]
  },
  {
   "cell_type": "code",
   "execution_count": 8,
   "metadata": {
    "id": "lvmKzbLGXumu"
   },
   "outputs": [],
   "source": [
    "train = train.dropna()"
   ]
  },
  {
   "cell_type": "code",
   "execution_count": 9,
   "metadata": {
    "colab": {
     "base_uri": "https://localhost:8080/",
     "height": 424
    },
    "id": "99fGsYuVXyAe",
    "outputId": "18ced32d-27cb-498b-8fce-c9db26061288"
   },
   "outputs": [
    {
     "data": {
      "text/html": [
       "<div>\n",
       "<style scoped>\n",
       "    .dataframe tbody tr th:only-of-type {\n",
       "        vertical-align: middle;\n",
       "    }\n",
       "\n",
       "    .dataframe tbody tr th {\n",
       "        vertical-align: top;\n",
       "    }\n",
       "\n",
       "    .dataframe thead th {\n",
       "        text-align: right;\n",
       "    }\n",
       "</style>\n",
       "<table border=\"1\" class=\"dataframe\">\n",
       "  <thead>\n",
       "    <tr style=\"text-align: right;\">\n",
       "      <th></th>\n",
       "      <th>일자</th>\n",
       "      <th>종목코드</th>\n",
       "      <th>종목명</th>\n",
       "      <th>거래량</th>\n",
       "      <th>시가</th>\n",
       "      <th>고가</th>\n",
       "      <th>저가</th>\n",
       "      <th>종가</th>\n",
       "      <th>pct_change</th>\n",
       "    </tr>\n",
       "  </thead>\n",
       "  <tbody>\n",
       "    <tr>\n",
       "      <th>484000</th>\n",
       "      <td>20220524</td>\n",
       "      <td>A060310</td>\n",
       "      <td>3S</td>\n",
       "      <td>12076738</td>\n",
       "      <td>3365</td>\n",
       "      <td>3685</td>\n",
       "      <td>3285</td>\n",
       "      <td>3415</td>\n",
       "      <td>0.017884</td>\n",
       "    </tr>\n",
       "    <tr>\n",
       "      <th>484001</th>\n",
       "      <td>20220524</td>\n",
       "      <td>A095570</td>\n",
       "      <td>AJ네트웍스</td>\n",
       "      <td>70755</td>\n",
       "      <td>6960</td>\n",
       "      <td>6980</td>\n",
       "      <td>6840</td>\n",
       "      <td>6930</td>\n",
       "      <td>0.001445</td>\n",
       "    </tr>\n",
       "    <tr>\n",
       "      <th>484002</th>\n",
       "      <td>20220524</td>\n",
       "      <td>A006840</td>\n",
       "      <td>AK홀딩스</td>\n",
       "      <td>9586</td>\n",
       "      <td>19450</td>\n",
       "      <td>19600</td>\n",
       "      <td>19200</td>\n",
       "      <td>19200</td>\n",
       "      <td>-0.010309</td>\n",
       "    </tr>\n",
       "    <tr>\n",
       "      <th>484003</th>\n",
       "      <td>20220524</td>\n",
       "      <td>A054620</td>\n",
       "      <td>APS</td>\n",
       "      <td>19253</td>\n",
       "      <td>11750</td>\n",
       "      <td>12250</td>\n",
       "      <td>11650</td>\n",
       "      <td>11650</td>\n",
       "      <td>-0.025105</td>\n",
       "    </tr>\n",
       "    <tr>\n",
       "      <th>484004</th>\n",
       "      <td>20220524</td>\n",
       "      <td>A265520</td>\n",
       "      <td>AP시스템</td>\n",
       "      <td>105870</td>\n",
       "      <td>21800</td>\n",
       "      <td>21850</td>\n",
       "      <td>21200</td>\n",
       "      <td>21250</td>\n",
       "      <td>-0.025229</td>\n",
       "    </tr>\n",
       "    <tr>\n",
       "      <th>...</th>\n",
       "      <td>...</td>\n",
       "      <td>...</td>\n",
       "      <td>...</td>\n",
       "      <td>...</td>\n",
       "      <td>...</td>\n",
       "      <td>...</td>\n",
       "      <td>...</td>\n",
       "      <td>...</td>\n",
       "      <td>...</td>\n",
       "    </tr>\n",
       "    <tr>\n",
       "      <th>987995</th>\n",
       "      <td>20230530</td>\n",
       "      <td>A189980</td>\n",
       "      <td>흥국에프엔비</td>\n",
       "      <td>272284</td>\n",
       "      <td>3005</td>\n",
       "      <td>3035</td>\n",
       "      <td>2955</td>\n",
       "      <td>2980</td>\n",
       "      <td>-0.006667</td>\n",
       "    </tr>\n",
       "    <tr>\n",
       "      <th>987996</th>\n",
       "      <td>20230530</td>\n",
       "      <td>A000540</td>\n",
       "      <td>흥국화재</td>\n",
       "      <td>50218</td>\n",
       "      <td>3250</td>\n",
       "      <td>3255</td>\n",
       "      <td>3195</td>\n",
       "      <td>3215</td>\n",
       "      <td>-0.006182</td>\n",
       "    </tr>\n",
       "    <tr>\n",
       "      <th>987997</th>\n",
       "      <td>20230530</td>\n",
       "      <td>A003280</td>\n",
       "      <td>흥아해운</td>\n",
       "      <td>130664</td>\n",
       "      <td>1344</td>\n",
       "      <td>1395</td>\n",
       "      <td>1340</td>\n",
       "      <td>1370</td>\n",
       "      <td>0.017831</td>\n",
       "    </tr>\n",
       "    <tr>\n",
       "      <th>987998</th>\n",
       "      <td>20230530</td>\n",
       "      <td>A037440</td>\n",
       "      <td>희림</td>\n",
       "      <td>141932</td>\n",
       "      <td>9170</td>\n",
       "      <td>9260</td>\n",
       "      <td>9170</td>\n",
       "      <td>9200</td>\n",
       "      <td>0.000000</td>\n",
       "    </tr>\n",
       "    <tr>\n",
       "      <th>987999</th>\n",
       "      <td>20230530</td>\n",
       "      <td>A238490</td>\n",
       "      <td>힘스</td>\n",
       "      <td>2611843</td>\n",
       "      <td>6410</td>\n",
       "      <td>8220</td>\n",
       "      <td>6300</td>\n",
       "      <td>8220</td>\n",
       "      <td>0.298578</td>\n",
       "    </tr>\n",
       "  </tbody>\n",
       "</table>\n",
       "<p>504000 rows × 9 columns</p>\n",
       "</div>"
      ],
      "text/plain": [
       "              일자     종목코드     종목명       거래량     시가     고가     저가     종가  \\\n",
       "484000  20220524  A060310      3S  12076738   3365   3685   3285   3415   \n",
       "484001  20220524  A095570  AJ네트웍스     70755   6960   6980   6840   6930   \n",
       "484002  20220524  A006840   AK홀딩스      9586  19450  19600  19200  19200   \n",
       "484003  20220524  A054620     APS     19253  11750  12250  11650  11650   \n",
       "484004  20220524  A265520   AP시스템    105870  21800  21850  21200  21250   \n",
       "...          ...      ...     ...       ...    ...    ...    ...    ...   \n",
       "987995  20230530  A189980  흥국에프엔비    272284   3005   3035   2955   2980   \n",
       "987996  20230530  A000540    흥국화재     50218   3250   3255   3195   3215   \n",
       "987997  20230530  A003280    흥아해운    130664   1344   1395   1340   1370   \n",
       "987998  20230530  A037440      희림    141932   9170   9260   9170   9200   \n",
       "987999  20230530  A238490      힘스   2611843   6410   8220   6300   8220   \n",
       "\n",
       "        pct_change  \n",
       "484000    0.017884  \n",
       "484001    0.001445  \n",
       "484002   -0.010309  \n",
       "484003   -0.025105  \n",
       "484004   -0.025229  \n",
       "...            ...  \n",
       "987995   -0.006667  \n",
       "987996   -0.006182  \n",
       "987997    0.017831  \n",
       "987998    0.000000  \n",
       "987999    0.298578  \n",
       "\n",
       "[504000 rows x 9 columns]"
      ]
     },
     "execution_count": 9,
     "metadata": {},
     "output_type": "execute_result"
    }
   ],
   "source": [
    "train"
   ]
  },
  {
   "cell_type": "code",
   "execution_count": 10,
   "metadata": {
    "colab": {
     "base_uri": "https://localhost:8080/"
    },
    "id": "lXJNaj85Xy1m",
    "outputId": "c2f2bcd2-e7c0-4474-ac34-3db1f9ee67f7"
   },
   "outputs": [
    {
     "name": "stderr",
     "output_type": "stream",
     "text": [
      "  0%|          | 0/2000 [00:00<?, ?it/s]"
     ]
    },
    {
     "name": "stderr",
     "output_type": "stream",
     "text": [
      "100%|██████████| 2000/2000 [00:32<00:00, 62.16it/s]\n"
     ]
    }
   ],
   "source": [
    "stock_pct = {} # 매 iter 시 생기는 lookup의 시간을 제거하기 위해 공간에 미리 배치해둠\n",
    "\n",
    "for stock_code in tqdm(train['종목코드'].unique()):\n",
    "    stock_pct[stock_code] = train[train['종목코드']== stock_code]['pct_change']"
   ]
  },
  {
   "cell_type": "code",
   "execution_count": 11,
   "metadata": {
    "id": "476JbsniX3Dt"
   },
   "outputs": [],
   "source": [
    "with open(\"train_data.pkl\",\"wb\") as f: # 다른 프로세서에서도 이용할 수 있게 피클\n",
    "    pickle.dump(stock_pct,f)"
   ]
  },
  {
   "cell_type": "markdown",
   "metadata": {
    "id": "hegInbfZX9oO"
   },
   "source": [
    "## Parallel Job"
   ]
  },
  {
   "cell_type": "code",
   "execution_count": 25,
   "metadata": {
    "id": "uqxnVrvAX_Zk"
   },
   "outputs": [],
   "source": [
    "with open(\"append_case.py\",\"w\") as f:\n",
    "    f.write(\"\"\"\n",
    "import sys\n",
    "import pandas as pd\n",
    "import random\n",
    "import pickle\n",
    "import numpy as np\n",
    "import os\n",
    "import time\n",
    "\n",
    "\n",
    "if __name__ == \"__main__\":\n",
    "    with open(\"train_data.pkl\",\"rb\") as f:\n",
    "        stock_pct = pickle.load(f)\n",
    "    num_iter = int(sys.argv[1])\n",
    "    cases = {}\n",
    "    for _ in range(num_iter):\n",
    "        random_stock = random.sample(list(stock_pct.keys()),400)\n",
    "        ret = []\n",
    "        for _i in range(200):\n",
    "            ret.append(stock_pct[random_stock[_i]].to_list())\n",
    "        for _i in range(200,400):\n",
    "            ret.append((stock_pct[random_stock[_i]] * -1).to_list())\n",
    "        ret = np.array(ret)\n",
    "        case_name = \"/\".join(random_stock)\n",
    "        cases[case_name] = {\n",
    "            \"mean\":ret.sum(axis=0).mean(),\n",
    "            \"std\":ret.sum(axis=0).std()\n",
    "        }\n",
    "    with open(\"cases_\"+sys.argv[2]+\".pkl\",\"wb\") as f:\n",
    "        pickle.dump(cases,f)\n",
    "\n",
    "\n",
    "    \"\"\")"
   ]
  },
  {
   "cell_type": "code",
   "execution_count": 13,
   "metadata": {
    "id": "4d9UXo1JYDAD"
   },
   "outputs": [],
   "source": [
    "start_time = time.time()"
   ]
  },
  {
   "cell_type": "code",
   "execution_count": 14,
   "metadata": {
    "id": "DraIxDLNYC97"
   },
   "outputs": [
    {
     "name": "stderr",
     "output_type": "stream",
     "text": [
      "  0%|          | 0/100 [00:00<?, ?it/s]Traceback (most recent call last):\n",
      "  File \"/Users/admin/Documents/GitHub/Dacon_stock_price_prediction/BASELINE/append_case.py\", line 13, in <module>\n",
      "    stock_pct = pickle.load(f)\n",
      "ModuleNotFoundError: No module named 'pandas.core.indexes.numeric'\n",
      "Traceback (most recent call last):\n",
      "  File \"/Users/admin/Documents/GitHub/Dacon_stock_price_prediction/BASELINE/append_case.py\", line 13, in <module>\n",
      "    stock_pct = pickle.load(f)\n",
      "ModuleNotFoundError: No module named 'pandas.core.indexes.numeric'\n",
      "Traceback (most recent call last):\n",
      "  File \"/Users/admin/Documents/GitHub/Dacon_stock_price_prediction/BASELINE/append_case.py\", line 13, in <module>\n",
      "    stock_pct = pickle.load(f)\n",
      "ModuleNotFoundError: No module named 'pandas.core.indexes.numeric'\n",
      "Traceback (most recent call last):\n",
      "  File \"/Users/admin/Documents/GitHub/Dacon_stock_price_prediction/BASELINE/append_case.py\", line 13, in <module>\n",
      "    stock_pct = pickle.load(f)\n",
      "ModuleNotFoundError: No module named 'pandas.core.indexes.numeric'\n",
      "Traceback (most recent call last):\n",
      "  File \"/Users/admin/Documents/GitHub/Dacon_stock_price_prediction/BASELINE/append_case.py\", line 13, in <module>\n",
      "    stock_pct = pickle.load(f)\n",
      "ModuleNotFoundError: No module named 'pandas.core.indexes.numeric'\n",
      "Traceback (most recent call last):\n",
      "  File \"/Users/admin/Documents/GitHub/Dacon_stock_price_prediction/BASELINE/append_case.py\", line 13, in <module>\n",
      "    stock_pct = pickle.load(f)\n",
      "ModuleNotFoundError: No module named 'pandas.core.indexes.numeric'\n",
      "Traceback (most recent call last):\n",
      "  File \"/Users/admin/Documents/GitHub/Dacon_stock_price_prediction/BASELINE/append_case.py\", line 13, in <module>\n",
      "    stock_pct = pickle.load(f)\n",
      "ModuleNotFoundError: No module named 'pandas.core.indexes.numeric'\n",
      "Traceback (most recent call last):\n",
      "  File \"/Users/admin/Documents/GitHub/Dacon_stock_price_prediction/BASELINE/append_case.py\", line 13, in <module>\n",
      "    stock_pct = pickle.load(f)\n",
      "ModuleNotFoundError: No module named 'pandas.core.indexes.numeric'\n",
      "  9%|▉         | 9/100 [00:05<00:56,  1.61it/s]Traceback (most recent call last):\n",
      "  File \"/Users/admin/Documents/GitHub/Dacon_stock_price_prediction/BASELINE/append_case.py\", line 13, in <module>\n",
      "    stock_pct = pickle.load(f)\n",
      "ModuleNotFoundError: No module named 'pandas.core.indexes.numeric'\n",
      "Traceback (most recent call last):\n",
      "  File \"/Users/admin/Documents/GitHub/Dacon_stock_price_prediction/BASELINE/append_case.py\", line 13, in <module>\n",
      "    stock_pct = pickle.load(f)\n",
      "ModuleNotFoundError: No module named 'pandas.core.indexes.numeric'\n",
      "Traceback (most recent call last):\n",
      "  File \"/Users/admin/Documents/GitHub/Dacon_stock_price_prediction/BASELINE/append_case.py\", line 13, in <module>\n",
      "    stock_pct = pickle.load(f)\n",
      "ModuleNotFoundError: No module named 'pandas.core.indexes.numeric'\n",
      "Traceback (most recent call last):\n",
      "  File \"/Users/admin/Documents/GitHub/Dacon_stock_price_prediction/BASELINE/append_case.py\", line 13, in <module>\n",
      "    stock_pct = pickle.load(f)\n",
      "ModuleNotFoundError: No module named 'pandas.core.indexes.numeric'\n",
      "Traceback (most recent call last):\n",
      "  File \"/Users/admin/Documents/GitHub/Dacon_stock_price_prediction/BASELINE/append_case.py\", line 13, in <module>\n",
      "    stock_pct = pickle.load(f)\n",
      "ModuleNotFoundError: No module named 'pandas.core.indexes.numeric'\n",
      "Traceback (most recent call last):\n",
      "  File \"/Users/admin/Documents/GitHub/Dacon_stock_price_prediction/BASELINE/append_case.py\", line 13, in <module>\n",
      "    stock_pct = pickle.load(f)\n",
      "ModuleNotFoundError: No module named 'pandas.core.indexes.numeric'\n",
      "Traceback (most recent call last):\n",
      "  File \"/Users/admin/Documents/GitHub/Dacon_stock_price_prediction/BASELINE/append_case.py\", line 13, in <module>\n",
      "    stock_pct = pickle.load(f)\n",
      "ModuleNotFoundError: No module named 'pandas.core.indexes.numeric'\n",
      "Traceback (most recent call last):\n",
      "  File \"/Users/admin/Documents/GitHub/Dacon_stock_price_prediction/BASELINE/append_case.py\", line 13, in <module>\n",
      "    stock_pct = pickle.load(f)\n",
      "ModuleNotFoundError: No module named 'pandas.core.indexes.numeric'\n",
      " 17%|█▋        | 17/100 [00:06<00:26,  3.13it/s]Traceback (most recent call last):\n",
      "  File \"/Users/admin/Documents/GitHub/Dacon_stock_price_prediction/BASELINE/append_case.py\", line 13, in <module>\n",
      "    stock_pct = pickle.load(f)\n",
      "ModuleNotFoundError: No module named 'pandas.core.indexes.numeric'\n",
      "Traceback (most recent call last):\n",
      "  File \"/Users/admin/Documents/GitHub/Dacon_stock_price_prediction/BASELINE/append_case.py\", line 13, in <module>\n",
      "    stock_pct = pickle.load(f)\n",
      "ModuleNotFoundError: No module named 'pandas.core.indexes.numeric'\n",
      "Traceback (most recent call last):\n",
      "  File \"/Users/admin/Documents/GitHub/Dacon_stock_price_prediction/BASELINE/append_case.py\", line 13, in <module>\n",
      "    stock_pct = pickle.load(f)\n",
      "ModuleNotFoundError: No module named 'pandas.core.indexes.numeric'\n",
      "Traceback (most recent call last):\n",
      "  File \"/Users/admin/Documents/GitHub/Dacon_stock_price_prediction/BASELINE/append_case.py\", line 13, in <module>\n",
      "    stock_pct = pickle.load(f)\n",
      "ModuleNotFoundError: No module named 'pandas.core.indexes.numeric'\n",
      "Traceback (most recent call last):\n",
      "  File \"/Users/admin/Documents/GitHub/Dacon_stock_price_prediction/BASELINE/append_case.py\", line 13, in <module>\n",
      "    stock_pct = pickle.load(f)\n",
      "ModuleNotFoundError: No module named 'pandas.core.indexes.numeric'\n",
      "Traceback (most recent call last):\n",
      "  File \"/Users/admin/Documents/GitHub/Dacon_stock_price_prediction/BASELINE/append_case.py\", line 13, in <module>\n",
      "    stock_pct = pickle.load(f)\n",
      "ModuleNotFoundError: No module named 'pandas.core.indexes.numeric'\n",
      "Traceback (most recent call last):\n",
      "  File \"/Users/admin/Documents/GitHub/Dacon_stock_price_prediction/BASELINE/append_case.py\", line 13, in <module>\n",
      "    stock_pct = pickle.load(f)\n",
      "ModuleNotFoundError: No module named 'pandas.core.indexes.numeric'\n",
      "Traceback (most recent call last):\n",
      "  File \"/Users/admin/Documents/GitHub/Dacon_stock_price_prediction/BASELINE/append_case.py\", line 13, in <module>\n",
      "    stock_pct = pickle.load(f)\n",
      "ModuleNotFoundError: No module named 'pandas.core.indexes.numeric'\n",
      " 25%|██▌       | 25/100 [00:06<00:15,  4.77it/s]Traceback (most recent call last):\n",
      "  File \"/Users/admin/Documents/GitHub/Dacon_stock_price_prediction/BASELINE/append_case.py\", line 13, in <module>\n",
      "    stock_pct = pickle.load(f)\n",
      "ModuleNotFoundError: No module named 'pandas.core.indexes.numeric'\n",
      "Traceback (most recent call last):\n",
      "  File \"/Users/admin/Documents/GitHub/Dacon_stock_price_prediction/BASELINE/append_case.py\", line 13, in <module>\n",
      "    stock_pct = pickle.load(f)\n",
      "ModuleNotFoundError: No module named 'pandas.core.indexes.numeric'\n",
      "Traceback (most recent call last):\n",
      "  File \"/Users/admin/Documents/GitHub/Dacon_stock_price_prediction/BASELINE/append_case.py\", line 13, in <module>\n",
      "    stock_pct = pickle.load(f)\n",
      "ModuleNotFoundError: No module named 'pandas.core.indexes.numeric'\n",
      "Traceback (most recent call last):\n",
      "  File \"/Users/admin/Documents/GitHub/Dacon_stock_price_prediction/BASELINE/append_case.py\", line 13, in <module>\n",
      "    stock_pct = pickle.load(f)\n",
      "ModuleNotFoundError: No module named 'pandas.core.indexes.numeric'\n",
      "Traceback (most recent call last):\n",
      "  File \"/Users/admin/Documents/GitHub/Dacon_stock_price_prediction/BASELINE/append_case.py\", line 13, in <module>\n",
      "    stock_pct = pickle.load(f)\n",
      "ModuleNotFoundError: No module named 'pandas.core.indexes.numeric'\n",
      "Traceback (most recent call last):\n",
      "  File \"/Users/admin/Documents/GitHub/Dacon_stock_price_prediction/BASELINE/append_case.py\", line 13, in <module>\n",
      "    stock_pct = pickle.load(f)\n",
      "ModuleNotFoundError: No module named 'pandas.core.indexes.numeric'\n",
      " 33%|███▎      | 33/100 [00:07<00:10,  6.35it/s]Traceback (most recent call last):\n",
      "  File \"/Users/admin/Documents/GitHub/Dacon_stock_price_prediction/BASELINE/append_case.py\", line 13, in <module>\n",
      "    stock_pct = pickle.load(f)\n",
      "ModuleNotFoundError: No module named 'pandas.core.indexes.numeric'\n",
      "Traceback (most recent call last):\n",
      "  File \"/Users/admin/Documents/GitHub/Dacon_stock_price_prediction/BASELINE/append_case.py\", line 13, in <module>\n",
      "    stock_pct = pickle.load(f)\n",
      "ModuleNotFoundError: No module named 'pandas.core.indexes.numeric'\n",
      " 36%|███▌      | 36/100 [00:07<00:08,  7.26it/s]Traceback (most recent call last):\n",
      "  File \"/Users/admin/Documents/GitHub/Dacon_stock_price_prediction/BASELINE/append_case.py\", line 13, in <module>\n",
      "    stock_pct = pickle.load(f)\n",
      "ModuleNotFoundError: No module named 'pandas.core.indexes.numeric'\n",
      "Traceback (most recent call last):\n",
      "  File \"/Users/admin/Documents/GitHub/Dacon_stock_price_prediction/BASELINE/append_case.py\", line 13, in <module>\n",
      "    stock_pct = pickle.load(f)\n",
      "ModuleNotFoundError: No module named 'pandas.core.indexes.numeric'\n",
      "Traceback (most recent call last):\n",
      "  File \"/Users/admin/Documents/GitHub/Dacon_stock_price_prediction/BASELINE/append_case.py\", line 13, in <module>\n",
      "    stock_pct = pickle.load(f)\n",
      "ModuleNotFoundError: No module named 'pandas.core.indexes.numeric'\n",
      "Traceback (most recent call last):\n",
      "  File \"/Users/admin/Documents/GitHub/Dacon_stock_price_prediction/BASELINE/append_case.py\", line 13, in <module>\n",
      "    stock_pct = pickle.load(f)\n",
      "ModuleNotFoundError: No module named 'pandas.core.indexes.numeric'\n",
      " 41%|████      | 41/100 [00:08<00:07,  7.70it/s]Traceback (most recent call last):\n",
      "  File \"/Users/admin/Documents/GitHub/Dacon_stock_price_prediction/BASELINE/append_case.py\", line 13, in <module>\n",
      "    stock_pct = pickle.load(f)\n",
      "ModuleNotFoundError: No module named 'pandas.core.indexes.numeric'\n",
      "Traceback (most recent call last):\n",
      "  File \"/Users/admin/Documents/GitHub/Dacon_stock_price_prediction/BASELINE/append_case.py\", line 13, in <module>\n",
      "    stock_pct = pickle.load(f)\n",
      "ModuleNotFoundError: No module named 'pandas.core.indexes.numeric'\n",
      "Traceback (most recent call last):\n",
      "  File \"/Users/admin/Documents/GitHub/Dacon_stock_price_prediction/BASELINE/append_case.py\", line 13, in <module>\n",
      "    stock_pct = pickle.load(f)\n",
      "ModuleNotFoundError: No module named 'pandas.core.indexes.numeric'\n",
      "Traceback (most recent call last):\n",
      "  File \"/Users/admin/Documents/GitHub/Dacon_stock_price_prediction/BASELINE/append_case.py\", line 13, in <module>\n",
      "    stock_pct = pickle.load(f)\n",
      "ModuleNotFoundError: No module named 'pandas.core.indexes.numeric'\n",
      " 44%|████▍     | 44/100 [00:08<00:06,  8.92it/s]Traceback (most recent call last):\n",
      "  File \"/Users/admin/Documents/GitHub/Dacon_stock_price_prediction/BASELINE/append_case.py\", line 13, in <module>\n",
      "    stock_pct = pickle.load(f)\n",
      "ModuleNotFoundError: No module named 'pandas.core.indexes.numeric'\n",
      "Traceback (most recent call last):\n",
      "  File \"/Users/admin/Documents/GitHub/Dacon_stock_price_prediction/BASELINE/append_case.py\", line 13, in <module>\n",
      "    stock_pct = pickle.load(f)\n",
      "ModuleNotFoundError: No module named 'pandas.core.indexes.numeric'\n",
      "Traceback (most recent call last):\n",
      "  File \"/Users/admin/Documents/GitHub/Dacon_stock_price_prediction/BASELINE/append_case.py\", line 13, in <module>\n",
      "    stock_pct = pickle.load(f)\n",
      "ModuleNotFoundError: No module named 'pandas.core.indexes.numeric'\n",
      " 49%|████▉     | 49/100 [00:08<00:05,  8.86it/s]Traceback (most recent call last):\n",
      "  File \"/Users/admin/Documents/GitHub/Dacon_stock_price_prediction/BASELINE/append_case.py\", line 13, in <module>\n",
      "    stock_pct = pickle.load(f)\n",
      "ModuleNotFoundError: No module named 'pandas.core.indexes.numeric'\n",
      "Traceback (most recent call last):\n",
      "  File \"/Users/admin/Documents/GitHub/Dacon_stock_price_prediction/BASELINE/append_case.py\", line 13, in <module>\n",
      "    stock_pct = pickle.load(f)\n",
      "ModuleNotFoundError: No module named 'pandas.core.indexes.numeric'\n",
      "Traceback (most recent call last):\n",
      "  File \"/Users/admin/Documents/GitHub/Dacon_stock_price_prediction/BASELINE/append_case.py\", line 13, in <module>\n",
      "    stock_pct = pickle.load(f)\n",
      "ModuleNotFoundError: No module named 'pandas.core.indexes.numeric'\n",
      "Traceback (most recent call last):\n",
      "  File \"/Users/admin/Documents/GitHub/Dacon_stock_price_prediction/BASELINE/append_case.py\", line 13, in <module>\n",
      "    stock_pct = pickle.load(f)\n",
      "ModuleNotFoundError: No module named 'pandas.core.indexes.numeric'\n",
      "Traceback (most recent call last):\n",
      "  File \"/Users/admin/Documents/GitHub/Dacon_stock_price_prediction/BASELINE/append_case.py\", line 13, in <module>\n",
      "    stock_pct = pickle.load(f)\n",
      "ModuleNotFoundError: No module named 'pandas.core.indexes.numeric'\n",
      " 54%|█████▍    | 54/100 [00:09<00:04, 10.90it/s]Traceback (most recent call last):\n",
      "  File \"/Users/admin/Documents/GitHub/Dacon_stock_price_prediction/BASELINE/append_case.py\", line 13, in <module>\n",
      "    stock_pct = pickle.load(f)\n",
      "ModuleNotFoundError: No module named 'pandas.core.indexes.numeric'\n",
      "Traceback (most recent call last):\n",
      "  File \"/Users/admin/Documents/GitHub/Dacon_stock_price_prediction/BASELINE/append_case.py\", line 13, in <module>\n",
      "    stock_pct = pickle.load(f)\n",
      "ModuleNotFoundError: No module named 'pandas.core.indexes.numeric'\n",
      "Traceback (most recent call last):\n",
      "  File \"/Users/admin/Documents/GitHub/Dacon_stock_price_prediction/BASELINE/append_case.py\", line 13, in <module>\n",
      "    stock_pct = pickle.load(f)\n",
      "ModuleNotFoundError: No module named 'pandas.core.indexes.numeric'\n",
      " 57%|█████▋    | 57/100 [00:09<00:04, 10.33it/s]Traceback (most recent call last):\n",
      "  File \"/Users/admin/Documents/GitHub/Dacon_stock_price_prediction/BASELINE/append_case.py\", line 13, in <module>\n",
      "    stock_pct = pickle.load(f)\n",
      "ModuleNotFoundError: No module named 'pandas.core.indexes.numeric'\n",
      " 59%|█████▉    | 59/100 [00:09<00:03, 11.26it/s]Traceback (most recent call last):\n",
      "  File \"/Users/admin/Documents/GitHub/Dacon_stock_price_prediction/BASELINE/append_case.py\", line 13, in <module>\n",
      "    stock_pct = pickle.load(f)\n",
      "ModuleNotFoundError: No module named 'pandas.core.indexes.numeric'\n",
      "Traceback (most recent call last):\n",
      "  File \"/Users/admin/Documents/GitHub/Dacon_stock_price_prediction/BASELINE/append_case.py\", line 13, in <module>\n",
      "    stock_pct = pickle.load(f)\n",
      "ModuleNotFoundError: No module named 'pandas.core.indexes.numeric'\n",
      "Traceback (most recent call last):\n",
      "  File \"/Users/admin/Documents/GitHub/Dacon_stock_price_prediction/BASELINE/append_case.py\", line 13, in <module>\n",
      "    stock_pct = pickle.load(f)\n",
      "ModuleNotFoundError: No module named 'pandas.core.indexes.numeric'\n",
      "Traceback (most recent call last):\n",
      "  File \"/Users/admin/Documents/GitHub/Dacon_stock_price_prediction/BASELINE/append_case.py\", line 13, in <module>\n",
      "    stock_pct = pickle.load(f)\n",
      "ModuleNotFoundError: No module named 'pandas.core.indexes.numeric'\n",
      " 61%|██████    | 61/100 [00:09<00:03, 10.66it/s]Traceback (most recent call last):\n",
      "  File \"/Users/admin/Documents/GitHub/Dacon_stock_price_prediction/BASELINE/append_case.py\", line 13, in <module>\n",
      "    stock_pct = pickle.load(f)\n",
      "ModuleNotFoundError: No module named 'pandas.core.indexes.numeric'\n",
      "Traceback (most recent call last):\n",
      "  File \"/Users/admin/Documents/GitHub/Dacon_stock_price_prediction/BASELINE/append_case.py\", line 13, in <module>\n",
      "    stock_pct = pickle.load(f)\n",
      "ModuleNotFoundError: No module named 'pandas.core.indexes.numeric'\n",
      "Traceback (most recent call last):\n",
      "  File \"/Users/admin/Documents/GitHub/Dacon_stock_price_prediction/BASELINE/append_case.py\", line 13, in <module>\n",
      "    stock_pct = pickle.load(f)\n",
      "ModuleNotFoundError: No module named 'pandas.core.indexes.numeric'\n",
      " 65%|██████▌   | 65/100 [00:10<00:03, 11.12it/s]Traceback (most recent call last):\n",
      "  File \"/Users/admin/Documents/GitHub/Dacon_stock_price_prediction/BASELINE/append_case.py\", line 13, in <module>\n",
      "    stock_pct = pickle.load(f)\n",
      "ModuleNotFoundError: No module named 'pandas.core.indexes.numeric'\n",
      " 67%|██████▋   | 67/100 [00:10<00:02, 11.84it/s]Traceback (most recent call last):\n",
      "  File \"/Users/admin/Documents/GitHub/Dacon_stock_price_prediction/BASELINE/append_case.py\", line 13, in <module>\n",
      "    stock_pct = pickle.load(f)\n",
      "ModuleNotFoundError: No module named 'pandas.core.indexes.numeric'\n",
      "Traceback (most recent call last):\n",
      "  File \"/Users/admin/Documents/GitHub/Dacon_stock_price_prediction/BASELINE/append_case.py\", line 13, in <module>\n",
      "    stock_pct = pickle.load(f)\n",
      "ModuleNotFoundError: No module named 'pandas.core.indexes.numeric'\n",
      "Traceback (most recent call last):\n",
      "  File \"/Users/admin/Documents/GitHub/Dacon_stock_price_prediction/BASELINE/append_case.py\", line 13, in <module>\n",
      "    stock_pct = pickle.load(f)\n",
      "ModuleNotFoundError: No module named 'pandas.core.indexes.numeric'\n",
      "Traceback (most recent call last):\n",
      "  File \"/Users/admin/Documents/GitHub/Dacon_stock_price_prediction/BASELINE/append_case.py\", line 13, in <module>\n",
      "    stock_pct = pickle.load(f)\n",
      "ModuleNotFoundError: No module named 'pandas.core.indexes.numeric'\n",
      " 71%|███████   | 71/100 [00:10<00:02, 12.05it/s]Traceback (most recent call last):\n",
      "  File \"/Users/admin/Documents/GitHub/Dacon_stock_price_prediction/BASELINE/append_case.py\", line 13, in <module>\n",
      "    stock_pct = pickle.load(f)\n",
      "ModuleNotFoundError: No module named 'pandas.core.indexes.numeric'\n",
      "Traceback (most recent call last):\n",
      "  File \"/Users/admin/Documents/GitHub/Dacon_stock_price_prediction/BASELINE/append_case.py\", line 13, in <module>\n",
      "    stock_pct = pickle.load(f)\n",
      "ModuleNotFoundError: No module named 'pandas.core.indexes.numeric'\n",
      "Traceback (most recent call last):\n",
      "  File \"/Users/admin/Documents/GitHub/Dacon_stock_price_prediction/BASELINE/append_case.py\", line 13, in <module>\n",
      "    stock_pct = pickle.load(f)\n",
      "ModuleNotFoundError: No module named 'pandas.core.indexes.numeric'\n",
      " 73%|███████▎  | 73/100 [00:10<00:02, 12.70it/s]Traceback (most recent call last):\n",
      "  File \"/Users/admin/Documents/GitHub/Dacon_stock_price_prediction/BASELINE/append_case.py\", line 13, in <module>\n",
      "    stock_pct = pickle.load(f)\n",
      "ModuleNotFoundError: No module named 'pandas.core.indexes.numeric'\n",
      " 75%|███████▌  | 75/100 [00:10<00:01, 13.45it/s]Traceback (most recent call last):\n",
      "  File \"/Users/admin/Documents/GitHub/Dacon_stock_price_prediction/BASELINE/append_case.py\", line 13, in <module>\n",
      "    stock_pct = pickle.load(f)\n",
      "ModuleNotFoundError: No module named 'pandas.core.indexes.numeric'\n",
      "Traceback (most recent call last):\n",
      "  File \"/Users/admin/Documents/GitHub/Dacon_stock_price_prediction/BASELINE/append_case.py\", line 13, in <module>\n",
      "    stock_pct = pickle.load(f)\n",
      "ModuleNotFoundError: No module named 'pandas.core.indexes.numeric'\n",
      "Traceback (most recent call last):\n",
      "  File \"/Users/admin/Documents/GitHub/Dacon_stock_price_prediction/BASELINE/append_case.py\", line 13, in <module>\n",
      "    stock_pct = pickle.load(f)\n",
      "ModuleNotFoundError: No module named 'pandas.core.indexes.numeric'\n",
      " 77%|███████▋  | 77/100 [00:11<00:02,  9.92it/s]Traceback (most recent call last):\n",
      "  File \"/Users/admin/Documents/GitHub/Dacon_stock_price_prediction/BASELINE/append_case.py\", line 13, in <module>\n",
      "    stock_pct = pickle.load(f)\n",
      "ModuleNotFoundError: No module named 'pandas.core.indexes.numeric'\n",
      "Traceback (most recent call last):\n",
      "  File \"/Users/admin/Documents/GitHub/Dacon_stock_price_prediction/BASELINE/append_case.py\", line 13, in <module>\n",
      "    stock_pct = pickle.load(f)\n",
      "ModuleNotFoundError: No module named 'pandas.core.indexes.numeric'\n",
      "Traceback (most recent call last):\n",
      "  File \"/Users/admin/Documents/GitHub/Dacon_stock_price_prediction/BASELINE/append_case.py\", line 13, in <module>\n",
      "    stock_pct = pickle.load(f)\n",
      "ModuleNotFoundError: No module named 'pandas.core.indexes.numeric'\n",
      " 80%|████████  | 80/100 [00:11<00:01, 12.62it/s]Traceback (most recent call last):\n",
      "  File \"/Users/admin/Documents/GitHub/Dacon_stock_price_prediction/BASELINE/append_case.py\", line 13, in <module>\n",
      "    stock_pct = pickle.load(f)\n",
      "ModuleNotFoundError: No module named 'pandas.core.indexes.numeric'\n",
      "Traceback (most recent call last):\n",
      "  File \"/Users/admin/Documents/GitHub/Dacon_stock_price_prediction/BASELINE/append_case.py\", line 13, in <module>\n",
      "    stock_pct = pickle.load(f)\n",
      "ModuleNotFoundError: No module named 'pandas.core.indexes.numeric'\n",
      " 84%|████████▍ | 84/100 [00:11<00:01, 14.39it/s]Traceback (most recent call last):\n",
      "  File \"/Users/admin/Documents/GitHub/Dacon_stock_price_prediction/BASELINE/append_case.py\", line 13, in <module>\n",
      "    stock_pct = pickle.load(f)\n",
      "ModuleNotFoundError: No module named 'pandas.core.indexes.numeric'\n",
      "Traceback (most recent call last):\n",
      "  File \"/Users/admin/Documents/GitHub/Dacon_stock_price_prediction/BASELINE/append_case.py\", line 13, in <module>\n",
      "    stock_pct = pickle.load(f)\n",
      "ModuleNotFoundError: No module named 'pandas.core.indexes.numeric'\n",
      "Traceback (most recent call last):\n",
      "  File \"/Users/admin/Documents/GitHub/Dacon_stock_price_prediction/BASELINE/append_case.py\", line 13, in <module>\n",
      "    stock_pct = pickle.load(f)\n",
      "ModuleNotFoundError: No module named 'pandas.core.indexes.numeric'\n",
      "Traceback (most recent call last):\n",
      "  File \"/Users/admin/Documents/GitHub/Dacon_stock_price_prediction/BASELINE/append_case.py\", line 13, in <module>\n",
      "    stock_pct = pickle.load(f)\n",
      "ModuleNotFoundError: No module named 'pandas.core.indexes.numeric'\n",
      "Traceback (most recent call last):\n",
      "  File \"/Users/admin/Documents/GitHub/Dacon_stock_price_prediction/BASELINE/append_case.py\", line 13, in <module>\n",
      "    stock_pct = pickle.load(f)\n",
      "ModuleNotFoundError: No module named 'pandas.core.indexes.numeric'\n",
      " 86%|████████▌ | 86/100 [00:11<00:01, 10.35it/s]Traceback (most recent call last):\n",
      "  File \"/Users/admin/Documents/GitHub/Dacon_stock_price_prediction/BASELINE/append_case.py\", line 13, in <module>\n",
      "    stock_pct = pickle.load(f)\n",
      "ModuleNotFoundError: No module named 'pandas.core.indexes.numeric'\n",
      "Traceback (most recent call last):\n",
      "  File \"/Users/admin/Documents/GitHub/Dacon_stock_price_prediction/BASELINE/append_case.py\", line 13, in <module>\n",
      "    stock_pct = pickle.load(f)\n",
      "ModuleNotFoundError: No module named 'pandas.core.indexes.numeric'\n",
      " 88%|████████▊ | 88/100 [00:11<00:01, 11.74it/s]Traceback (most recent call last):\n",
      "  File \"/Users/admin/Documents/GitHub/Dacon_stock_price_prediction/BASELINE/append_case.py\", line 13, in <module>\n",
      "    stock_pct = pickle.load(f)\n",
      "ModuleNotFoundError: No module named 'pandas.core.indexes.numeric'\n",
      " 91%|█████████ | 91/100 [00:12<00:00, 14.57it/s]Traceback (most recent call last):\n",
      "  File \"/Users/admin/Documents/GitHub/Dacon_stock_price_prediction/BASELINE/append_case.py\", line 13, in <module>\n",
      "    stock_pct = pickle.load(f)\n",
      "ModuleNotFoundError: No module named 'pandas.core.indexes.numeric'\n",
      "Traceback (most recent call last):\n",
      "  File \"/Users/admin/Documents/GitHub/Dacon_stock_price_prediction/BASELINE/append_case.py\", line 13, in <module>\n",
      "    stock_pct = pickle.load(f)\n",
      "ModuleNotFoundError: No module named 'pandas.core.indexes.numeric'\n",
      "Traceback (most recent call last):\n",
      "  File \"/Users/admin/Documents/GitHub/Dacon_stock_price_prediction/BASELINE/append_case.py\", line 13, in <module>\n",
      "    stock_pct = pickle.load(f)\n",
      "ModuleNotFoundError: No module named 'pandas.core.indexes.numeric'\n",
      " 93%|█████████▎| 93/100 [00:12<00:00, 10.72it/s]Traceback (most recent call last):\n",
      "  File \"/Users/admin/Documents/GitHub/Dacon_stock_price_prediction/BASELINE/append_case.py\", line 13, in <module>\n",
      "    stock_pct = pickle.load(f)\n",
      "ModuleNotFoundError: No module named 'pandas.core.indexes.numeric'\n",
      "Traceback (most recent call last):\n",
      "  File \"/Users/admin/Documents/GitHub/Dacon_stock_price_prediction/BASELINE/append_case.py\", line 13, in <module>\n",
      "    stock_pct = pickle.load(f)\n",
      "ModuleNotFoundError: No module named 'pandas.core.indexes.numeric'\n",
      "Traceback (most recent call last):\n",
      "  File \"/Users/admin/Documents/GitHub/Dacon_stock_price_prediction/BASELINE/append_case.py\", line 13, in <module>\n",
      "    stock_pct = pickle.load(f)\n",
      "ModuleNotFoundError: No module named 'pandas.core.indexes.numeric'\n",
      "Traceback (most recent call last):\n",
      "  File \"/Users/admin/Documents/GitHub/Dacon_stock_price_prediction/BASELINE/append_case.py\", line 13, in <module>\n",
      "    stock_pct = pickle.load(f)\n",
      "ModuleNotFoundError: No module named 'pandas.core.indexes.numeric'\n",
      "Traceback (most recent call last):\n",
      "  File \"/Users/admin/Documents/GitHub/Dacon_stock_price_prediction/BASELINE/append_case.py\", line 13, in <module>\n",
      "    stock_pct = pickle.load(f)\n",
      "ModuleNotFoundError: No module named 'pandas.core.indexes.numeric'\n",
      "100%|██████████| 100/100 [00:12<00:00,  7.84it/s]\n"
     ]
    }
   ],
   "source": [
    "process_list = []\n",
    "for i in tqdm(range(100)):\n",
    "    while True:\n",
    "        process_list = [_p for _p in process_list if _p.poll() is None]\n",
    "        if len(process_list) < 8:\n",
    "          break\n",
    "        time.sleep(0.1)\n",
    "    _p = subprocess.Popen([\"python\",\"append_case.py\",\"1000\",str(i)])\n",
    "    process_list.append(_p)"
   ]
  },
  {
   "cell_type": "code",
   "execution_count": 15,
   "metadata": {
    "id": "VR9cj1P-YC7p"
   },
   "outputs": [
    {
     "name": "stderr",
     "output_type": "stream",
     "text": [
      "Traceback (most recent call last):\n",
      "  File \"/Users/admin/Documents/GitHub/Dacon_stock_price_prediction/BASELINE/append_case.py\", line 13, in <module>\n",
      "    stock_pct = pickle.load(f)\n",
      "ModuleNotFoundError: No module named 'pandas.core.indexes.numeric'\n",
      "Traceback (most recent call last):\n",
      "  File \"/Users/admin/Documents/GitHub/Dacon_stock_price_prediction/BASELINE/append_case.py\", line 13, in <module>\n",
      "    stock_pct = pickle.load(f)\n",
      "ModuleNotFoundError: No module named 'pandas.core.indexes.numeric'\n",
      "Traceback (most recent call last):\n",
      "  File \"/Users/admin/Documents/GitHub/Dacon_stock_price_prediction/BASELINE/append_case.py\", line 13, in <module>\n",
      "    stock_pct = pickle.load(f)\n",
      "ModuleNotFoundError: No module named 'pandas.core.indexes.numeric'\n",
      "Traceback (most recent call last):\n",
      "  File \"/Users/admin/Documents/GitHub/Dacon_stock_price_prediction/BASELINE/append_case.py\", line 13, in <module>\n",
      "    stock_pct = pickle.load(f)\n",
      "ModuleNotFoundError: No module named 'pandas.core.indexes.numeric'\n",
      "Traceback (most recent call last):\n",
      "  File \"/Users/admin/Documents/GitHub/Dacon_stock_price_prediction/BASELINE/append_case.py\", line 13, in <module>\n",
      "    stock_pct = pickle.load(f)\n",
      "ModuleNotFoundError: No module named 'pandas.core.indexes.numeric'\n",
      "Traceback (most recent call last):\n",
      "  File \"/Users/admin/Documents/GitHub/Dacon_stock_price_prediction/BASELINE/append_case.py\", line 13, in <module>\n",
      "    stock_pct = pickle.load(f)\n",
      "ModuleNotFoundError: No module named 'pandas.core.indexes.numeric'\n",
      "Traceback (most recent call last):\n",
      "  File \"/Users/admin/Documents/GitHub/Dacon_stock_price_prediction/BASELINE/append_case.py\", line 13, in <module>\n",
      "    stock_pct = pickle.load(f)\n",
      "ModuleNotFoundError: No module named 'pandas.core.indexes.numeric'\n",
      "Traceback (most recent call last):\n",
      "  File \"/Users/admin/Documents/GitHub/Dacon_stock_price_prediction/BASELINE/append_case.py\", line 13, in <module>\n",
      "    stock_pct = pickle.load(f)\n",
      "ModuleNotFoundError: No module named 'pandas.core.indexes.numeric'\n"
     ]
    }
   ],
   "source": [
    "for _p in process_list:\n",
    "    while True:\n",
    "        if _p.poll() is not None:\n",
    "            break\n",
    "        time.sleep(1)"
   ]
  },
  {
   "cell_type": "code",
   "execution_count": 16,
   "metadata": {
    "id": "PrmYSPqeYC5Z"
   },
   "outputs": [],
   "source": [
    "end_time = time.time()"
   ]
  },
  {
   "cell_type": "code",
   "execution_count": 17,
   "metadata": {
    "id": "SGpft2GaYC3J"
   },
   "outputs": [
    {
     "name": "stdout",
     "output_type": "stream",
     "text": [
      "13.80초 경과\n"
     ]
    }
   ],
   "source": [
    "time_spent = \"%04.2f\" % (end_time - start_time)\n",
    "print(f\"{time_spent}초 경과\")"
   ]
  },
  {
   "cell_type": "code",
   "execution_count": 18,
   "metadata": {
    "id": "EtueNeLsYC0x"
   },
   "outputs": [],
   "source": [
    "case_files = [_x for _x in os.listdir() if \"cases_\" in _x and \".pkl\" in _x]"
   ]
  },
  {
   "cell_type": "code",
   "execution_count": 19,
   "metadata": {
    "id": "obGFusUMYG7y"
   },
   "outputs": [],
   "source": [
    "cases = {}\n",
    "\n",
    "for case_file in case_files:\n",
    "    with open(f\"{case_file}\",\"rb\") as f:\n",
    "        _case = pickle.load(f)\n",
    "        for k,v in _case.items():\n",
    "            cases[k] = v"
   ]
  },
  {
   "cell_type": "markdown",
   "metadata": {
    "id": "jElVaLSdaFPn"
   },
   "source": [
    "## 시각화"
   ]
  },
  {
   "cell_type": "code",
   "execution_count": 20,
   "metadata": {
    "id": "L_8vScegaFNm"
   },
   "outputs": [],
   "source": [
    "case_df = pd.DataFrame(cases).T"
   ]
  },
  {
   "cell_type": "code",
   "execution_count": 21,
   "metadata": {
    "id": "MOWU4IS7aFLm"
   },
   "outputs": [
    {
     "data": {
      "text/html": [
       "<div>\n",
       "<style scoped>\n",
       "    .dataframe tbody tr th:only-of-type {\n",
       "        vertical-align: middle;\n",
       "    }\n",
       "\n",
       "    .dataframe tbody tr th {\n",
       "        vertical-align: top;\n",
       "    }\n",
       "\n",
       "    .dataframe thead th {\n",
       "        text-align: right;\n",
       "    }\n",
       "</style>\n",
       "<table border=\"1\" class=\"dataframe\">\n",
       "  <thead>\n",
       "    <tr style=\"text-align: right;\">\n",
       "      <th></th>\n",
       "    </tr>\n",
       "  </thead>\n",
       "  <tbody>\n",
       "  </tbody>\n",
       "</table>\n",
       "</div>"
      ],
      "text/plain": [
       "Empty DataFrame\n",
       "Columns: []\n",
       "Index: []"
      ]
     },
     "execution_count": 21,
     "metadata": {},
     "output_type": "execute_result"
    }
   ],
   "source": [
    "case_df.reset_index(drop=True).head()"
   ]
  },
  {
   "cell_type": "code",
   "execution_count": 22,
   "metadata": {
    "id": "Tm_NXOYkaFJu"
   },
   "outputs": [
    {
     "data": {
      "text/html": [
       "<div>\n",
       "<style scoped>\n",
       "    .dataframe tbody tr th:only-of-type {\n",
       "        vertical-align: middle;\n",
       "    }\n",
       "\n",
       "    .dataframe tbody tr th {\n",
       "        vertical-align: top;\n",
       "    }\n",
       "\n",
       "    .dataframe thead th {\n",
       "        text-align: right;\n",
       "    }\n",
       "</style>\n",
       "<table border=\"1\" class=\"dataframe\">\n",
       "  <thead>\n",
       "    <tr style=\"text-align: right;\">\n",
       "      <th></th>\n",
       "    </tr>\n",
       "  </thead>\n",
       "  <tbody>\n",
       "  </tbody>\n",
       "</table>\n",
       "</div>"
      ],
      "text/plain": [
       "Empty DataFrame\n",
       "Columns: []\n",
       "Index: []"
      ]
     },
     "execution_count": 22,
     "metadata": {},
     "output_type": "execute_result"
    }
   ],
   "source": [
    "case_df.head()"
   ]
  },
  {
   "cell_type": "code",
   "execution_count": null,
   "metadata": {
    "id": "1c39wl8JaFHu"
   },
   "outputs": [],
   "source": []
  },
  {
   "cell_type": "code",
   "execution_count": 23,
   "metadata": {
    "id": "zeEwjlr5aFFx"
   },
   "outputs": [
    {
     "ename": "TypeError",
     "evalue": "no numeric data to plot",
     "output_type": "error",
     "traceback": [
      "\u001b[0;31m---------------------------------------------------------------------------\u001b[0m",
      "\u001b[0;31mTypeError\u001b[0m                                 Traceback (most recent call last)",
      "Cell \u001b[0;32mIn[23], line 1\u001b[0m\n\u001b[0;32m----> 1\u001b[0m case_df\u001b[39m.\u001b[39;49mplot\u001b[39m.\u001b[39;49mscatter(x\u001b[39m=\u001b[39;49m\u001b[39m'\u001b[39;49m\u001b[39mstd\u001b[39;49m\u001b[39m'\u001b[39;49m,y\u001b[39m=\u001b[39;49m\u001b[39m'\u001b[39;49m\u001b[39mmean\u001b[39;49m\u001b[39m'\u001b[39;49m,figsize\u001b[39m=\u001b[39;49m(\u001b[39m12\u001b[39;49m,\u001b[39m10\u001b[39;49m),marker\u001b[39m=\u001b[39;49m\u001b[39m'\u001b[39;49m\u001b[39m1\u001b[39;49m\u001b[39m'\u001b[39;49m) \u001b[39m# capm모형과 비슷하게 표현 ( 포트폴리오 별 변동성 / 수익 )\u001b[39;00m\n",
      "File \u001b[0;32m~/Library/Python/3.9/lib/python/site-packages/pandas/plotting/_core.py:1697\u001b[0m, in \u001b[0;36mPlotAccessor.scatter\u001b[0;34m(self, x, y, s, c, **kwargs)\u001b[0m\n\u001b[1;32m   1614\u001b[0m \u001b[39mdef\u001b[39;00m \u001b[39mscatter\u001b[39m(\u001b[39mself\u001b[39m, x, y, s\u001b[39m=\u001b[39m\u001b[39mNone\u001b[39;00m, c\u001b[39m=\u001b[39m\u001b[39mNone\u001b[39;00m, \u001b[39m*\u001b[39m\u001b[39m*\u001b[39mkwargs) \u001b[39m-\u001b[39m\u001b[39m>\u001b[39m PlotAccessor:\n\u001b[1;32m   1615\u001b[0m \u001b[39m    \u001b[39m\u001b[39m\"\"\"\u001b[39;00m\n\u001b[1;32m   1616\u001b[0m \u001b[39m    Create a scatter plot with varying marker point size and color.\u001b[39;00m\n\u001b[1;32m   1617\u001b[0m \n\u001b[0;32m   (...)\u001b[0m\n\u001b[1;32m   1695\u001b[0m \u001b[39m        ...                       colormap='viridis')\u001b[39;00m\n\u001b[1;32m   1696\u001b[0m \u001b[39m    \"\"\"\u001b[39;00m\n\u001b[0;32m-> 1697\u001b[0m     \u001b[39mreturn\u001b[39;00m \u001b[39mself\u001b[39;49m(kind\u001b[39m=\u001b[39;49m\u001b[39m\"\u001b[39;49m\u001b[39mscatter\u001b[39;49m\u001b[39m\"\u001b[39;49m, x\u001b[39m=\u001b[39;49mx, y\u001b[39m=\u001b[39;49my, s\u001b[39m=\u001b[39;49ms, c\u001b[39m=\u001b[39;49mc, \u001b[39m*\u001b[39;49m\u001b[39m*\u001b[39;49mkwargs)\n",
      "File \u001b[0;32m~/Library/Python/3.9/lib/python/site-packages/pandas/plotting/_core.py:945\u001b[0m, in \u001b[0;36mPlotAccessor.__call__\u001b[0;34m(self, *args, **kwargs)\u001b[0m\n\u001b[1;32m    943\u001b[0m \u001b[39mif\u001b[39;00m kind \u001b[39min\u001b[39;00m \u001b[39mself\u001b[39m\u001b[39m.\u001b[39m_dataframe_kinds:\n\u001b[1;32m    944\u001b[0m     \u001b[39mif\u001b[39;00m \u001b[39misinstance\u001b[39m(data, ABCDataFrame):\n\u001b[0;32m--> 945\u001b[0m         \u001b[39mreturn\u001b[39;00m plot_backend\u001b[39m.\u001b[39;49mplot(data, x\u001b[39m=\u001b[39;49mx, y\u001b[39m=\u001b[39;49my, kind\u001b[39m=\u001b[39;49mkind, \u001b[39m*\u001b[39;49m\u001b[39m*\u001b[39;49mkwargs)\n\u001b[1;32m    946\u001b[0m     \u001b[39melse\u001b[39;00m:\n\u001b[1;32m    947\u001b[0m         \u001b[39mraise\u001b[39;00m \u001b[39mValueError\u001b[39;00m(\u001b[39mf\u001b[39m\u001b[39m\"\u001b[39m\u001b[39mplot kind \u001b[39m\u001b[39m{\u001b[39;00mkind\u001b[39m}\u001b[39;00m\u001b[39m can only be used for data frames\u001b[39m\u001b[39m\"\u001b[39m)\n",
      "File \u001b[0;32m~/Library/Python/3.9/lib/python/site-packages/pandas/plotting/_matplotlib/__init__.py:71\u001b[0m, in \u001b[0;36mplot\u001b[0;34m(data, kind, **kwargs)\u001b[0m\n\u001b[1;32m     69\u001b[0m         kwargs[\u001b[39m\"\u001b[39m\u001b[39max\u001b[39m\u001b[39m\"\u001b[39m] \u001b[39m=\u001b[39m \u001b[39mgetattr\u001b[39m(ax, \u001b[39m\"\u001b[39m\u001b[39mleft_ax\u001b[39m\u001b[39m\"\u001b[39m, ax)\n\u001b[1;32m     70\u001b[0m plot_obj \u001b[39m=\u001b[39m PLOT_CLASSES[kind](data, \u001b[39m*\u001b[39m\u001b[39m*\u001b[39mkwargs)\n\u001b[0;32m---> 71\u001b[0m plot_obj\u001b[39m.\u001b[39;49mgenerate()\n\u001b[1;32m     72\u001b[0m plot_obj\u001b[39m.\u001b[39mdraw()\n\u001b[1;32m     73\u001b[0m \u001b[39mreturn\u001b[39;00m plot_obj\u001b[39m.\u001b[39mresult\n",
      "File \u001b[0;32m~/Library/Python/3.9/lib/python/site-packages/pandas/plotting/_matplotlib/core.py:450\u001b[0m, in \u001b[0;36mMPLPlot.generate\u001b[0;34m(self)\u001b[0m\n\u001b[1;32m    448\u001b[0m \u001b[39mdef\u001b[39;00m \u001b[39mgenerate\u001b[39m(\u001b[39mself\u001b[39m) \u001b[39m-\u001b[39m\u001b[39m>\u001b[39m \u001b[39mNone\u001b[39;00m:\n\u001b[1;32m    449\u001b[0m     \u001b[39mself\u001b[39m\u001b[39m.\u001b[39m_args_adjust()\n\u001b[0;32m--> 450\u001b[0m     \u001b[39mself\u001b[39;49m\u001b[39m.\u001b[39;49m_compute_plot_data()\n\u001b[1;32m    451\u001b[0m     \u001b[39mself\u001b[39m\u001b[39m.\u001b[39m_setup_subplots()\n\u001b[1;32m    452\u001b[0m     \u001b[39mself\u001b[39m\u001b[39m.\u001b[39m_make_plot()\n",
      "File \u001b[0;32m~/Library/Python/3.9/lib/python/site-packages/pandas/plotting/_matplotlib/core.py:635\u001b[0m, in \u001b[0;36mMPLPlot._compute_plot_data\u001b[0;34m(self)\u001b[0m\n\u001b[1;32m    633\u001b[0m \u001b[39m# no non-numeric frames or series allowed\u001b[39;00m\n\u001b[1;32m    634\u001b[0m \u001b[39mif\u001b[39;00m is_empty:\n\u001b[0;32m--> 635\u001b[0m     \u001b[39mraise\u001b[39;00m \u001b[39mTypeError\u001b[39;00m(\u001b[39m\"\u001b[39m\u001b[39mno numeric data to plot\u001b[39m\u001b[39m\"\u001b[39m)\n\u001b[1;32m    637\u001b[0m \u001b[39mself\u001b[39m\u001b[39m.\u001b[39mdata \u001b[39m=\u001b[39m numeric_data\u001b[39m.\u001b[39mapply(\u001b[39mself\u001b[39m\u001b[39m.\u001b[39m_convert_to_ndarray)\n",
      "\u001b[0;31mTypeError\u001b[0m: no numeric data to plot"
     ]
    }
   ],
   "source": [
    "case_df.plot.scatter(x='std',y='mean',figsize=(12,10),marker='1') # capm모형과 비슷하게 표현 ( 포트폴리오 별 변동성 / 수익 )"
   ]
  },
  {
   "cell_type": "code",
   "execution_count": null,
   "metadata": {
    "id": "NU2vM5qfaFDv"
   },
   "outputs": [
    {
     "data": {
      "text/plain": [
       "<Axes: ylabel='Frequency'>"
      ]
     },
     "execution_count": 24,
     "metadata": {},
     "output_type": "execute_result"
    },
    {
     "data": {
      "image/png": "[encoded data removed]",
      "text/plain": [
       "<Figure size 640x480 with 1 Axes>"
      ]
     },
     "metadata": {},
     "output_type": "display_data"
    }
   ],
   "source": [
    "case_df['mean'].plot.hist() # 포트폴리오 수익 평균의 분포"
   ]
  },
  {
   "cell_type": "code",
   "execution_count": null,
   "metadata": {
    "id": "H7_7ryyAaFBe"
   },
   "outputs": [],
   "source": []
  },
  {
   "cell_type": "code",
   "execution_count": null,
   "metadata": {
    "id": "Ajjqt-e7aE-_"
   },
   "outputs": [],
   "source": [
    "case_df['sharp'] = case_df['mean'] / case_df['std'] # 나만의 샤프~"
   ]
  },
  {
   "cell_type": "code",
   "execution_count": null,
   "metadata": {
    "id": "VatMBbEtaE82"
   },
   "outputs": [
    {
     "data": {
      "text/plain": [
       "<Axes: ylabel='Frequency'>"
      ]
     },
     "execution_count": 26,
     "metadata": {},
     "output_type": "execute_result"
    },
    {
     "data": {
      "image/png": "[encoded data removed]",
      "text/plain": [
       "<Figure size 640x480 with 1 Axes>"
      ]
     },
     "metadata": {},
     "output_type": "display_data"
    }
   ],
   "source": [
    "case_df['sharp'].plot.hist() # 샤프의 분포"
   ]
  },
  {
   "cell_type": "code",
   "execution_count": null,
   "metadata": {
    "id": "IVPoTd2Yan4S"
   },
   "outputs": [
    {
     "data": {
      "text/html": [
       "<div>\n",
       "<style scoped>\n",
       "    .dataframe tbody tr th:only-of-type {\n",
       "        vertical-align: middle;\n",
       "    }\n",
       "\n",
       "    .dataframe tbody tr th {\n",
       "        vertical-align: top;\n",
       "    }\n",
       "\n",
       "    .dataframe thead th {\n",
       "        text-align: right;\n",
       "    }\n",
       "</style>\n",
       "<table border=\"1\" class=\"dataframe\">\n",
       "  <thead>\n",
       "    <tr style=\"text-align: right;\">\n",
       "      <th></th>\n",
       "      <th>mean</th>\n",
       "      <th>std</th>\n",
       "      <th>sharp</th>\n",
       "    </tr>\n",
       "  </thead>\n",
       "  <tbody>\n",
       "    <tr>\n",
       "      <th>0</th>\n",
       "      <td>-0.241737</td>\n",
       "      <td>0.957405</td>\n",
       "      <td>-0.252492</td>\n",
       "    </tr>\n",
       "    <tr>\n",
       "      <th>1</th>\n",
       "      <td>-0.165055</td>\n",
       "      <td>0.678396</td>\n",
       "      <td>-0.243302</td>\n",
       "    </tr>\n",
       "    <tr>\n",
       "      <th>2</th>\n",
       "      <td>-0.186037</td>\n",
       "      <td>0.809479</td>\n",
       "      <td>-0.229823</td>\n",
       "    </tr>\n",
       "    <tr>\n",
       "      <th>3</th>\n",
       "      <td>-0.173515</td>\n",
       "      <td>0.757743</td>\n",
       "      <td>-0.228989</td>\n",
       "    </tr>\n",
       "    <tr>\n",
       "      <th>4</th>\n",
       "      <td>-0.156653</td>\n",
       "      <td>0.689391</td>\n",
       "      <td>-0.227233</td>\n",
       "    </tr>\n",
       "    <tr>\n",
       "      <th>...</th>\n",
       "      <td>...</td>\n",
       "      <td>...</td>\n",
       "      <td>...</td>\n",
       "    </tr>\n",
       "    <tr>\n",
       "      <th>99995</th>\n",
       "      <td>0.162682</td>\n",
       "      <td>0.738028</td>\n",
       "      <td>0.220429</td>\n",
       "    </tr>\n",
       "    <tr>\n",
       "      <th>99996</th>\n",
       "      <td>0.148335</td>\n",
       "      <td>0.666508</td>\n",
       "      <td>0.222556</td>\n",
       "    </tr>\n",
       "    <tr>\n",
       "      <th>99997</th>\n",
       "      <td>0.161316</td>\n",
       "      <td>0.722605</td>\n",
       "      <td>0.223242</td>\n",
       "    </tr>\n",
       "    <tr>\n",
       "      <th>99998</th>\n",
       "      <td>0.154744</td>\n",
       "      <td>0.688558</td>\n",
       "      <td>0.224736</td>\n",
       "    </tr>\n",
       "    <tr>\n",
       "      <th>99999</th>\n",
       "      <td>0.166502</td>\n",
       "      <td>0.729384</td>\n",
       "      <td>0.228278</td>\n",
       "    </tr>\n",
       "  </tbody>\n",
       "</table>\n",
       "<p>100000 rows × 3 columns</p>\n",
       "</div>"
      ],
      "text/plain": [
       "           mean       std     sharp\n",
       "0     -0.241737  0.957405 -0.252492\n",
       "1     -0.165055  0.678396 -0.243302\n",
       "2     -0.186037  0.809479 -0.229823\n",
       "3     -0.173515  0.757743 -0.228989\n",
       "4     -0.156653  0.689391 -0.227233\n",
       "...         ...       ...       ...\n",
       "99995  0.162682  0.738028  0.220429\n",
       "99996  0.148335  0.666508  0.222556\n",
       "99997  0.161316  0.722605  0.223242\n",
       "99998  0.154744  0.688558  0.224736\n",
       "99999  0.166502  0.729384  0.228278\n",
       "\n",
       "[100000 rows x 3 columns]"
      ]
     },
     "execution_count": 27,
     "metadata": {},
     "output_type": "execute_result"
    }
   ],
   "source": [
    "case_df.sort_values('sharp').reset_index(drop=True)"
   ]
  },
  {
   "cell_type": "code",
   "execution_count": null,
   "metadata": {
    "id": "ypF6i3oFan2i"
   },
   "outputs": [
    {
     "data": {
      "text/plain": [
       "<Axes: >"
      ]
     },
     "execution_count": 28,
     "metadata": {},
     "output_type": "execute_result"
    },
    {
     "data": {
      "image/png": "[encoded data removed]",
      "text/plain": [
       "<Figure size 640x480 with 1 Axes>"
      ]
     },
     "metadata": {},
     "output_type": "display_data"
    }
   ],
   "source": [
    "case_df.sort_values('sharp').reset_index(drop=True)[['sharp']].plot()"
   ]
  },
  {
   "cell_type": "code",
   "execution_count": null,
   "metadata": {
    "id": "EZg2ytvTan0l"
   },
   "outputs": [
    {
     "data": {
      "text/plain": [
       "<Axes: xlabel='index', ylabel='sharp'>"
      ]
     },
     "execution_count": 29,
     "metadata": {},
     "output_type": "execute_result"
    },
    {
     "data": {
      "image/png": "[encoded data removed]",
      "text/plain": [
       "<Figure size 640x480 with 1 Axes>"
      ]
     },
     "metadata": {},
     "output_type": "display_data"
    }
   ],
   "source": [
    "case_df.sort_values('sharp').reset_index(drop=True).reset_index().plot.scatter(x='index',y='sharp',marker='1')"
   ]
  },
  {
   "cell_type": "code",
   "execution_count": null,
   "metadata": {
    "id": "lpK15-8Panyr"
   },
   "outputs": [],
   "source": []
  },
  {
   "cell_type": "code",
   "execution_count": null,
   "metadata": {
    "id": "735nXqL0anwh"
   },
   "outputs": [],
   "source": []
  },
  {
   "cell_type": "markdown",
   "metadata": {
    "id": "DVRGrJKvanuS"
   },
   "source": [
    "위 방법으로도 효과가 좋은 포트폴리오 구성도 가능할 것 입니다~\n",
    "(제가 이 방법으로 점수를 올려야 하나 오늘 3번 다 제출해서 못하네요 ㅜ.ㅜ)\n",
    "\n",
    "물론 CAPM과 같은 방법 또한 사용 가능하나, 제가 너무 오래전에 배운 것 이라\n",
    "\n",
    "다시 공부해봐야 할 것 같네요.\n",
    "\n",
    "만약 반응이 좋으면 다음편으로 CAPM 공부해서 업로드 해보겠습니다."
   ]
  },
  {
   "cell_type": "code",
   "execution_count": null,
   "metadata": {
    "id": "XONgmMejansS"
   },
   "outputs": [],
   "source": []
  },
  {
   "cell_type": "code",
   "execution_count": null,
   "metadata": {},
   "outputs": [],
   "source": []
  },
  {
   "cell_type": "code",
   "execution_count": null,
   "metadata": {},
   "outputs": [],
   "source": []
  }
 ],
 "metadata": {
  "colab": {
   "provenance": []
  },
  "kernelspec": {
   "display_name": "Python 3 (ipykernel)",
   "language": "python",
   "name": "python3"
  },
  "language_info": {
   "codemirror_mode": {
    "name": "ipython",
    "version": 3
   },
   "file_extension": ".py",
   "mimetype": "text/x-python",
   "name": "python",
   "nbconvert_exporter": "python",
   "pygments_lexer": "ipython3",
   "version": "3.9.6"
  }
 },
 "nbformat": 4,
 "nbformat_minor": 4
}
